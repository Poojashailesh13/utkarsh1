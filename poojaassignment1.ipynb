{
 "cells": [
  {
   "cell_type": "raw",
   "id": "1d49b65e",
   "metadata": {},
   "source": [
    "1. In the below elements which of them are values or an expression? eg:- values can be\n",
    "integer or string and expressions will be mathematical operators.\n",
    "*\n",
    "hello'\n",
    "-87.8\n",
    "-\n",
    "/\n",
    "+\n",
    "6 \n",
    "ans:*-expression\n",
    "'hello'-values\n",
    "-87.8-values\n",
    "--expression\n",
    "/-expression\n",
    "+-expression\n",
    "6-values"
   ]
  },
  {
   "cell_type": "raw",
   "id": "83fb01df",
   "metadata": {},
   "source": [
    "2. What is the difference between string and variable?\n",
    "ans-string-string a class ...reference data type it is used to represent text type data ..variable is any0 alphabet or group of alphabet\n",
    "which work as temporary storage lacations,variable is used to represent any value.ex-string X = \"pooja\"\n",
    "//here X is variable &type of value it stores is in string\n",
    "variable-variable is a store of information and string is a type of information you would store in variable.a string is usually words enclosed with\"\"\n",
    "ex-string X = \"welcome to home\"\n",
    "X is variable and we declared it as astring. use the single = to assign the text to it.\n",
    "\n"
   ]
  },
  {
   "cell_type": "raw",
   "id": "992bfa6e",
   "metadata": {},
   "source": [
    "3. Describe three different data types.\n",
    "ans-List-list are just like arrays declared in other languages which is ordered collection of data.it is very flexible as the items in a list do not need to be of the same type Lists in python can be created by just placing the sequence inside the square brakets[].\n",
    "Tuple-it is just like List ,Tuple is also an ordered collection of python objects the only difference between Tuple and List is that Tuples are immutable i.e tuples cant be modified after it is created.it is represented by Tuple class in python tuples are created by placing a sequence of values separated by 'comma' with or without use of parentheses for grouping of data sequence.\n",
    "Boolean-data type with one of the two built in values True or False."
   ]
  },
  {
   "cell_type": "raw",
   "id": "5533b744",
   "metadata": {},
   "source": [
    "4. What is an expression made up of? What do all expressions do?\n",
    "ans-An expression is a combination of values,variables,operators and calls to the function.expressions needs to be evaluated. if you ask python to print an expression the interpreter evaluates the expression and displays the result."
   ]
  },
  {
   "cell_type": "raw",
   "id": "db78864a",
   "metadata": {},
   "source": [
    "5. This assignment statements, like spam = 10. What is the difference between an\n",
    "expression and a statement?\n",
    "ans-a statement is an instruction that the python interpreter can execute.we have only seen assingnment statement so far.\n",
    "an expression is a combination of values,variables and operators and calls to function"
   ]
  },
  {
   "cell_type": "raw",
   "id": "3b79a4c5",
   "metadata": {},
   "source": [
    "6. After running the following code, what does the variable bacon contain?\n",
    "bacon = 22\n",
    "bacon + 1\n",
    "ans-23"
   ]
  },
  {
   "cell_type": "raw",
   "id": "7a394073",
   "metadata": {},
   "source": [
    "7. What should the values of the following two terms be?\n",
    "'spam' + 'spamspam'\n",
    "'spam' * 3\n",
    "ans-'spamspamspam'"
   ]
  },
  {
   "cell_type": "raw",
   "id": "a2ab23ea",
   "metadata": {},
   "source": [
    "8. Why is eggs a valid variable name while 100 is invalid?\n",
    "ans-Because variable names cannot begin with a number."
   ]
  },
  {
   "cell_type": "raw",
   "id": "71109e50",
   "metadata": {},
   "source": [
    "9. What three functions can be used to get the integer, floating-point number, or string\n",
    "version of a value?\n",
    "ans-str()\n",
    "int()\n",
    "float()"
   ]
  },
  {
   "cell_type": "raw",
   "id": "49ba7698",
   "metadata": {},
   "source": [
    "10. Why does this expression cause an error? How can you fix it?\n",
    "'I have eaten ' + 99 + ' burritos.'\n",
    "ans-This expression causes and error because in this line 'I have eaten' and 'burritos' are strings, while 99 is treated as integer. In order to fix the error and print 'I have eaten 99 burritos.', 99 needs '' around it to treat it as a string."
   ]
  }
 ],
 "metadata": {
  "kernelspec": {
   "display_name": "Python 3 (ipykernel)",
   "language": "python",
   "name": "python3"
  },
  "language_info": {
   "codemirror_mode": {
    "name": "ipython",
    "version": 3
   },
   "file_extension": ".py",
   "mimetype": "text/x-python",
   "name": "python",
   "nbconvert_exporter": "python",
   "pygments_lexer": "ipython3",
   "version": "3.9.7"
  }
 },
 "nbformat": 4,
 "nbformat_minor": 5
}
